{
 "cells": [
  {
   "cell_type": "markdown",
   "id": "522b5151",
   "metadata": {},
   "source": [
    "\n",
    "# Iris Classification Demo\n",
    "\n",
    "This example notebook demonstrates how to use the `gogoML` package to load the Iris dataset, train a simple logistic regression model and evaluate its accuracy.\n",
    "\n"
   ]
  },
  {
   "cell_type": "code",
   "execution_count": null,
   "id": "e71e48ba",
   "metadata": {},
   "outputs": [],
   "source": [
    "\n",
    "from gogoML.data import load_iris_dataset\n",
    "from gogoML.model import train_model\n",
    "\n",
    "# Load dataset\n",
    "data = load_iris_dataset()\n",
    "X_train, X_test, y_train, y_test = data['X_train'], data['X_test'], data['y_train'], data['y_test']\n",
    "\n",
    "# Train the model\n",
    "result = train_model(X_train, y_train, X_test, y_test)\n",
    "\n",
    "print(f\"Test accuracy: {result.accuracy:.2f}\")\n"
   ]
  },
  {
   "cell_type": "code",
   "execution_count": null,
   "id": "c5980a66",
   "metadata": {},
   "outputs": [],
   "source": [
    "\n",
    "# Inspect the trained model's coefficients\n",
    "result.model.coef_, result.model.intercept_\n"
   ]
  }
 ],
 "metadata": {},
 "nbformat": 4,
 "nbformat_minor": 5
}
